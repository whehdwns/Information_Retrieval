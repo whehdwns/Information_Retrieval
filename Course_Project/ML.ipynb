{
 "cells": [
  {
   "cell_type": "code",
   "execution_count": 1,
   "id": "61b8fcac",
   "metadata": {},
   "outputs": [],
   "source": [
    "import os.path\n",
    "import time\n",
    "import datetime as dt\n",
    "import re\n",
    "import csv\n",
    "import statistics\n",
    "import string\n",
    "import nltk\n",
    "from collections import Counter, defaultdict, OrderedDict\n",
    "\n",
    "import pandas as pd\n",
    "import numpy as np\n",
    "import matplotlib.pyplot as plt\n",
    "import seaborn as sns\n",
    "import warnings\n",
    "warnings.filterwarnings('ignore')\n",
    "\n",
    "from collections import Counter"
   ]
  },
  {
   "cell_type": "code",
   "execution_count": 2,
   "id": "3f4a7253",
   "metadata": {
    "scrolled": true
   },
   "outputs": [],
   "source": [
    "data_orig = pd.read_csv('dataset/processed_data.csv', delimiter = \"\\t\")\n",
    "data_orig = data_orig.drop(\"Unnamed: 0\",axis=1)\n",
    "data = data_orig.copy()\n",
    "\n",
    "data2_orig = pd.read_csv('dataset/processed_data2.csv', delimiter = \"\\t\")\n",
    "data2_orig = data2_orig.drop(\"Unnamed: 0\",axis=1)\n",
    "data2 = data2_orig.copy()\n",
    "\n",
    "data3_orig = pd.read_csv('dataset/processed_data3_shuffled.csv', delimiter = \"\\t\")\n",
    "data3_orig = data3_orig.drop(\"Unnamed: 0\",axis=1)\n",
    "data3 = data3_orig.copy()"
   ]
  },
  {
   "cell_type": "code",
   "execution_count": 3,
   "id": "f5a0dbfe",
   "metadata": {
    "scrolled": false
   },
   "outputs": [
    {
     "data": {
      "text/html": [
       "<div>\n",
       "<style scoped>\n",
       "    .dataframe tbody tr th:only-of-type {\n",
       "        vertical-align: middle;\n",
       "    }\n",
       "\n",
       "    .dataframe tbody tr th {\n",
       "        vertical-align: top;\n",
       "    }\n",
       "\n",
       "    .dataframe thead th {\n",
       "        text-align: right;\n",
       "    }\n",
       "</style>\n",
       "<table border=\"1\" class=\"dataframe\">\n",
       "  <thead>\n",
       "    <tr style=\"text-align: right;\">\n",
       "      <th></th>\n",
       "      <th>DOC_ID</th>\n",
       "      <th>LABEL</th>\n",
       "      <th>RATING</th>\n",
       "      <th>VERIFIED_PURCHASE</th>\n",
       "      <th>PRODUCT_CATEGORY</th>\n",
       "      <th>PRODUCT_ID</th>\n",
       "      <th>PRODUCT_TITLE</th>\n",
       "      <th>REVIEW_TITLE</th>\n",
       "      <th>REVIEW_TEXT</th>\n",
       "      <th>labeled</th>\n",
       "      <th>Processed_Review_title</th>\n",
       "      <th>title_length</th>\n",
       "      <th>Processed_Review_text</th>\n",
       "      <th>review_content_length</th>\n",
       "      <th>polarity</th>\n",
       "      <th>sentiment</th>\n",
       "    </tr>\n",
       "  </thead>\n",
       "  <tbody>\n",
       "    <tr>\n",
       "      <th>0</th>\n",
       "      <td>1</td>\n",
       "      <td>__label1__</td>\n",
       "      <td>4</td>\n",
       "      <td>N</td>\n",
       "      <td>PC</td>\n",
       "      <td>B00008NG7N</td>\n",
       "      <td>Targus PAUK10U Ultra Mini USB Keypad, Black</td>\n",
       "      <td>useful</td>\n",
       "      <td>When least you think so, this product will sav...</td>\n",
       "      <td>Fake</td>\n",
       "      <td>useful</td>\n",
       "      <td>1</td>\n",
       "      <td>least think product save day keep around case ...</td>\n",
       "      <td>10</td>\n",
       "      <td>0.0</td>\n",
       "      <td>Neutral</td>\n",
       "    </tr>\n",
       "  </tbody>\n",
       "</table>\n",
       "</div>"
      ],
      "text/plain": [
       "   DOC_ID       LABEL  RATING VERIFIED_PURCHASE PRODUCT_CATEGORY  PRODUCT_ID  \\\n",
       "0       1  __label1__       4                 N               PC  B00008NG7N   \n",
       "\n",
       "                                 PRODUCT_TITLE REVIEW_TITLE  \\\n",
       "0  Targus PAUK10U Ultra Mini USB Keypad, Black       useful   \n",
       "\n",
       "                                         REVIEW_TEXT labeled  \\\n",
       "0  When least you think so, this product will sav...    Fake   \n",
       "\n",
       "  Processed_Review_title  title_length  \\\n",
       "0                 useful             1   \n",
       "\n",
       "                               Processed_Review_text  review_content_length  \\\n",
       "0  least think product save day keep around case ...                     10   \n",
       "\n",
       "   polarity sentiment  \n",
       "0       0.0   Neutral  "
      ]
     },
     "execution_count": 3,
     "metadata": {},
     "output_type": "execute_result"
    }
   ],
   "source": [
    "data.head(1)"
   ]
  },
  {
   "cell_type": "code",
   "execution_count": 4,
   "id": "e7ee95ee",
   "metadata": {},
   "outputs": [
    {
     "data": {
      "text/html": [
       "<div>\n",
       "<style scoped>\n",
       "    .dataframe tbody tr th:only-of-type {\n",
       "        vertical-align: middle;\n",
       "    }\n",
       "\n",
       "    .dataframe tbody tr th {\n",
       "        vertical-align: top;\n",
       "    }\n",
       "\n",
       "    .dataframe thead th {\n",
       "        text-align: right;\n",
       "    }\n",
       "</style>\n",
       "<table border=\"1\" class=\"dataframe\">\n",
       "  <thead>\n",
       "    <tr style=\"text-align: right;\">\n",
       "      <th></th>\n",
       "      <th>RATING</th>\n",
       "      <th>VERIFIED_PURCHASE</th>\n",
       "      <th>labeled</th>\n",
       "      <th>REVIEW_TEXT</th>\n",
       "      <th>Processed_Review_text</th>\n",
       "      <th>review_content_length</th>\n",
       "      <th>polarity</th>\n",
       "      <th>sentiment</th>\n",
       "      <th>subjectivity</th>\n",
       "      <th>subjective_sentiment</th>\n",
       "    </tr>\n",
       "  </thead>\n",
       "  <tbody>\n",
       "    <tr>\n",
       "      <th>0</th>\n",
       "      <td>4</td>\n",
       "      <td>0</td>\n",
       "      <td>0</td>\n",
       "      <td>When least you think so, this product will sav...</td>\n",
       "      <td>least think product save day keep around case ...</td>\n",
       "      <td>10</td>\n",
       "      <td>0.0</td>\n",
       "      <td>Neutral</td>\n",
       "      <td>0.4</td>\n",
       "      <td>Objective</td>\n",
       "    </tr>\n",
       "  </tbody>\n",
       "</table>\n",
       "</div>"
      ],
      "text/plain": [
       "   RATING  VERIFIED_PURCHASE  labeled  \\\n",
       "0       4                  0        0   \n",
       "\n",
       "                                         REVIEW_TEXT  \\\n",
       "0  When least you think so, this product will sav...   \n",
       "\n",
       "                               Processed_Review_text  review_content_length  \\\n",
       "0  least think product save day keep around case ...                     10   \n",
       "\n",
       "   polarity sentiment  subjectivity subjective_sentiment  \n",
       "0       0.0   Neutral           0.4            Objective  "
      ]
     },
     "execution_count": 4,
     "metadata": {},
     "output_type": "execute_result"
    }
   ],
   "source": [
    "data2.head(1)"
   ]
  },
  {
   "cell_type": "code",
   "execution_count": 5,
   "id": "e28614af",
   "metadata": {},
   "outputs": [
    {
     "data": {
      "text/html": [
       "<div>\n",
       "<style scoped>\n",
       "    .dataframe tbody tr th:only-of-type {\n",
       "        vertical-align: middle;\n",
       "    }\n",
       "\n",
       "    .dataframe tbody tr th {\n",
       "        vertical-align: top;\n",
       "    }\n",
       "\n",
       "    .dataframe thead th {\n",
       "        text-align: right;\n",
       "    }\n",
       "</style>\n",
       "<table border=\"1\" class=\"dataframe\">\n",
       "  <thead>\n",
       "    <tr style=\"text-align: right;\">\n",
       "      <th></th>\n",
       "      <th>RATING</th>\n",
       "      <th>VERIFIED_PURCHASE</th>\n",
       "      <th>labeled</th>\n",
       "      <th>REVIEW_TEXT</th>\n",
       "      <th>Processed_Review_text</th>\n",
       "      <th>review_content_length</th>\n",
       "      <th>polarity</th>\n",
       "      <th>sentiment</th>\n",
       "      <th>subjectivity</th>\n",
       "      <th>subjective_sentiment</th>\n",
       "    </tr>\n",
       "  </thead>\n",
       "  <tbody>\n",
       "    <tr>\n",
       "      <th>0</th>\n",
       "      <td>5</td>\n",
       "      <td>0</td>\n",
       "      <td>0</td>\n",
       "      <td>I Purchased This Product For My Two Kids For M...</td>\n",
       "      <td>purchased product two kids son daughter fits d...</td>\n",
       "      <td>60</td>\n",
       "      <td>0.75</td>\n",
       "      <td>Positive</td>\n",
       "      <td>0.434091</td>\n",
       "      <td>Objective</td>\n",
       "    </tr>\n",
       "  </tbody>\n",
       "</table>\n",
       "</div>"
      ],
      "text/plain": [
       "   RATING  VERIFIED_PURCHASE  labeled  \\\n",
       "0       5                  0        0   \n",
       "\n",
       "                                         REVIEW_TEXT  \\\n",
       "0  I Purchased This Product For My Two Kids For M...   \n",
       "\n",
       "                               Processed_Review_text  review_content_length  \\\n",
       "0  purchased product two kids son daughter fits d...                     60   \n",
       "\n",
       "   polarity sentiment  subjectivity subjective_sentiment  \n",
       "0      0.75  Positive      0.434091            Objective  "
      ]
     },
     "execution_count": 5,
     "metadata": {},
     "output_type": "execute_result"
    }
   ],
   "source": [
    "data3.head(1)"
   ]
  },
  {
   "cell_type": "code",
   "execution_count": 6,
   "id": "a4f2daf7",
   "metadata": {},
   "outputs": [
    {
     "data": {
      "text/plain": [
       "array([<AxesSubplot:title={'center':'0'}>,\n",
       "       <AxesSubplot:title={'center':'1'}>], dtype=object)"
      ]
     },
     "execution_count": 6,
     "metadata": {},
     "output_type": "execute_result"
    },
    {
     "data": {
      "image/png": "[encoded data removed]",
      "text/plain": [
       "<Figure size 1080x144 with 2 Axes>"
      ]
     },
     "metadata": {
      "needs_background": "light"
     },
     "output_type": "display_data"
    }
   ],
   "source": [
    "data3.hist(column='review_content_length', by='labeled',bins=50,figsize=(15,2))"
   ]
  },
  {
   "cell_type": "code",
   "execution_count": 7,
   "id": "7eed10e1",
   "metadata": {},
   "outputs": [
    {
     "data": {
      "text/html": [
       "<div>\n",
       "<style scoped>\n",
       "    .dataframe tbody tr th:only-of-type {\n",
       "        vertical-align: middle;\n",
       "    }\n",
       "\n",
       "    .dataframe tbody tr th {\n",
       "        vertical-align: top;\n",
       "    }\n",
       "\n",
       "    .dataframe thead th {\n",
       "        text-align: right;\n",
       "    }\n",
       "</style>\n",
       "<table border=\"1\" class=\"dataframe\">\n",
       "  <thead>\n",
       "    <tr style=\"text-align: right;\">\n",
       "      <th></th>\n",
       "      <th>RATING</th>\n",
       "      <th>VERIFIED_PURCHASE</th>\n",
       "      <th>labeled</th>\n",
       "      <th>REVIEW_TEXT</th>\n",
       "      <th>Processed_Review_text</th>\n",
       "      <th>review_content_length</th>\n",
       "      <th>polarity</th>\n",
       "      <th>sentiment</th>\n",
       "      <th>subjectivity</th>\n",
       "      <th>subjective_sentiment</th>\n",
       "    </tr>\n",
       "  </thead>\n",
       "  <tbody>\n",
       "    <tr>\n",
       "      <th>0</th>\n",
       "      <td>5</td>\n",
       "      <td>0</td>\n",
       "      <td>0</td>\n",
       "      <td>I Purchased This Product For My Two Kids For M...</td>\n",
       "      <td>purchased product two kids son daughter fits d...</td>\n",
       "      <td>60</td>\n",
       "      <td>0.75</td>\n",
       "      <td>Positive</td>\n",
       "      <td>0.434091</td>\n",
       "      <td>Objective</td>\n",
       "    </tr>\n",
       "  </tbody>\n",
       "</table>\n",
       "</div>"
      ],
      "text/plain": [
       "   RATING  VERIFIED_PURCHASE  labeled  \\\n",
       "0       5                  0        0   \n",
       "\n",
       "                                         REVIEW_TEXT  \\\n",
       "0  I Purchased This Product For My Two Kids For M...   \n",
       "\n",
       "                               Processed_Review_text  review_content_length  \\\n",
       "0  purchased product two kids son daughter fits d...                     60   \n",
       "\n",
       "   polarity sentiment  subjectivity subjective_sentiment  \n",
       "0      0.75  Positive      0.434091            Objective  "
      ]
     },
     "execution_count": 7,
     "metadata": {},
     "output_type": "execute_result"
    }
   ],
   "source": [
    "data3.head(1)"
   ]
  },
  {
   "cell_type": "code",
   "execution_count": 8,
   "id": "952af4cd",
   "metadata": {},
   "outputs": [],
   "source": [
    "def sentimented(x):\n",
    "    if x== 'Negative':\n",
    "        return -1\n",
    "    elif x == 'Neutral':\n",
    "        return 0\n",
    "    elif x == 'Positive':\n",
    "        return 1\n",
    "\n",
    "def subjective_sentiment(x):\n",
    "    if x =='Subjective':\n",
    "        return 1\n",
    "    elif x =='Objective':\n",
    "        return 0"
   ]
  },
  {
   "cell_type": "code",
   "execution_count": 9,
   "id": "32d2d6e6",
   "metadata": {},
   "outputs": [],
   "source": [
    "data3['sentiment'] = data3['sentiment'].apply(sentimented)\n",
    "data3['subjective_sentiment'] = data3['subjective_sentiment'].apply(subjective_sentiment)"
   ]
  },
  {
   "cell_type": "code",
   "execution_count": 10,
   "id": "08cbe8af",
   "metadata": {},
   "outputs": [
    {
     "data": {
      "text/html": [
       "<div>\n",
       "<style scoped>\n",
       "    .dataframe tbody tr th:only-of-type {\n",
       "        vertical-align: middle;\n",
       "    }\n",
       "\n",
       "    .dataframe tbody tr th {\n",
       "        vertical-align: top;\n",
       "    }\n",
       "\n",
       "    .dataframe thead th {\n",
       "        text-align: right;\n",
       "    }\n",
       "</style>\n",
       "<table border=\"1\" class=\"dataframe\">\n",
       "  <thead>\n",
       "    <tr style=\"text-align: right;\">\n",
       "      <th></th>\n",
       "      <th>RATING</th>\n",
       "      <th>VERIFIED_PURCHASE</th>\n",
       "      <th>labeled</th>\n",
       "      <th>REVIEW_TEXT</th>\n",
       "      <th>Processed_Review_text</th>\n",
       "      <th>review_content_length</th>\n",
       "      <th>polarity</th>\n",
       "      <th>sentiment</th>\n",
       "      <th>subjectivity</th>\n",
       "      <th>subjective_sentiment</th>\n",
       "    </tr>\n",
       "  </thead>\n",
       "  <tbody>\n",
       "    <tr>\n",
       "      <th>0</th>\n",
       "      <td>5</td>\n",
       "      <td>0</td>\n",
       "      <td>0</td>\n",
       "      <td>I Purchased This Product For My Two Kids For M...</td>\n",
       "      <td>purchased product two kids son daughter fits d...</td>\n",
       "      <td>60</td>\n",
       "      <td>0.75</td>\n",
       "      <td>1</td>\n",
       "      <td>0.434091</td>\n",
       "      <td>0</td>\n",
       "    </tr>\n",
       "  </tbody>\n",
       "</table>\n",
       "</div>"
      ],
      "text/plain": [
       "   RATING  VERIFIED_PURCHASE  labeled  \\\n",
       "0       5                  0        0   \n",
       "\n",
       "                                         REVIEW_TEXT  \\\n",
       "0  I Purchased This Product For My Two Kids For M...   \n",
       "\n",
       "                               Processed_Review_text  review_content_length  \\\n",
       "0  purchased product two kids son daughter fits d...                     60   \n",
       "\n",
       "   polarity  sentiment  subjectivity  subjective_sentiment  \n",
       "0      0.75          1      0.434091                     0  "
      ]
     },
     "execution_count": 10,
     "metadata": {},
     "output_type": "execute_result"
    }
   ],
   "source": [
    "data3.head(1)"
   ]
  },
  {
   "cell_type": "markdown",
   "id": "cdea22f3",
   "metadata": {},
   "source": [
    "### Bag of words"
   ]
  },
  {
   "cell_type": "code",
   "execution_count": 11,
   "id": "32ddcf24",
   "metadata": {},
   "outputs": [],
   "source": [
    "from sklearn.feature_extraction.text import TfidfVectorizer"
   ]
  },
  {
   "cell_type": "code",
   "execution_count": 12,
   "id": "43f53a7b",
   "metadata": {},
   "outputs": [],
   "source": [
    "def vectorizetfidf(df):\n",
    "    tfidf_vectorizer = TfidfVectorizer().fit(df)\n",
    "    review_tfidf = tfidf_vectorizer.transform(df)\n",
    "    return review_tfidf"
   ]
  },
  {
   "cell_type": "code",
   "execution_count": 13,
   "id": "ebc4c32b",
   "metadata": {},
   "outputs": [],
   "source": [
    "X_p = vectorizetfidf(data3['Processed_Review_text'])"
   ]
  },
  {
   "cell_type": "code",
   "execution_count": 14,
   "id": "9677ed44",
   "metadata": {},
   "outputs": [],
   "source": [
    "y = data3['labeled']"
   ]
  },
  {
   "cell_type": "code",
   "execution_count": 15,
   "id": "e6a7d704",
   "metadata": {},
   "outputs": [],
   "source": [
    "from sklearn import metrics\n",
    "from sklearn.model_selection import train_test_split"
   ]
  },
  {
   "cell_type": "code",
   "execution_count": 16,
   "id": "069de5d0",
   "metadata": {},
   "outputs": [],
   "source": [
    "def split_data(Xt,yt):\n",
    "    X_train, X_test, y_train, y_test = train_test_split(Xt, yt,random_state = 42, test_size = 0.25)\n",
    "    return X_train, X_test, y_train, y_test"
   ]
  },
  {
   "cell_type": "code",
   "execution_count": 17,
   "id": "036c1783",
   "metadata": {},
   "outputs": [],
   "source": [
    "X_train_p, X_test_p, y_train_p, y_test_p = split_data(X_p, y)"
   ]
  },
  {
   "cell_type": "code",
   "execution_count": 18,
   "id": "ec160a27",
   "metadata": {},
   "outputs": [],
   "source": [
    "from sklearn.metrics import accuracy_score, f1_score, precision_score, recall_score"
   ]
  },
  {
   "cell_type": "code",
   "execution_count": 19,
   "id": "68712ba0",
   "metadata": {},
   "outputs": [],
   "source": [
    "from sklearn.naive_bayes import BernoulliNB\n",
    "def BernoulliNB_classifier(Xt, yt, testx, testy):\n",
    "    print(\"----BernouliNB----\\n\")\n",
    "    clf_nb = BernoulliNB(alpha=0.1)\n",
    "    clf_nb.fit(Xt, yt)\n",
    "    pred_bernoulliNB = clf_nb.predict(Xt)\n",
    "    print('------BernouliNB Train-------')\n",
    "    print('precision: {}'.format(round(precision_score(yt, pred_bernoulliNB)*100, 3)))\n",
    "    print('recall: {}'.format(round(recall_score(yt, pred_bernoulliNB)*100,3)))\n",
    "    print('fscore: {}'.format(round(f1_score(yt, pred_bernoulliNB)*100,3)))\n",
    "    print('Accuracy Score: {}'.format(round(accuracy_score(yt, pred_bernoulliNB)*100,3)))\n",
    "    print('------BernouliNB Test-------')\n",
    "    clf_nb.fit(testx, testy)\n",
    "    test_bernoulliNB = clf_nb.predict(testx)\n",
    "    print('precision: {}'.format(round(precision_score(testy, test_bernoulliNB)*100,3)))\n",
    "    print('recall: {}'.format(round(recall_score(testy, test_bernoulliNB)*100,3)))\n",
    "    print('fscore: {}'.format(round(f1_score(testy, test_bernoulliNB)*100,3)))\n",
    "    print('Accuracy Score: {}'.format(round(accuracy_score(testy, test_bernoulliNB)*100,3)))"
   ]
  },
  {
   "cell_type": "code",
   "execution_count": 20,
   "id": "0bf650a7",
   "metadata": {},
   "outputs": [],
   "source": [
    "from sklearn.linear_model import LogisticRegression\n",
    "def LogisticRegression_classifier(Xt, yt, testx, testy):\n",
    "    print(\"----Logistic Regression----\\n\")\n",
    "    clf_lr = LogisticRegression()\n",
    "    clf_lr.fit(Xt, yt)\n",
    "    pred_logistic = clf_lr.predict(Xt)\n",
    "    print('------LR Train-------')\n",
    "    print('precision: {}'.format(round(precision_score(yt, pred_logistic)*100, 3)))\n",
    "    print('recall: {}'.format(round(recall_score(yt, pred_logistic)*100,3)))\n",
    "    print('fscore: {}'.format(round(f1_score(yt, pred_logistic)*100,3)))\n",
    "    print('Accuracy Score: {}'.format(round(accuracy_score(yt, pred_logistic)*100,3)))\n",
    "    print('------LR Test-------')\n",
    "    clf_lr.fit(testx, testy)\n",
    "    test_logistic = clf_lr.predict(testx)\n",
    "    print('precision: {}'.format(round(precision_score(testy, test_logistic)*100,3)))\n",
    "    print('recall: {}'.format(round(recall_score(testy, test_logistic)*100,3)))\n",
    "    print('fscore: {}'.format(round(f1_score(testy, test_logistic)*100,3)))\n",
    "    print('Accuracy Score: {}'.format(round(accuracy_score(testy, test_logistic)*100,3)))"
   ]
  },
  {
   "cell_type": "code",
   "execution_count": 21,
   "id": "059a066c",
   "metadata": {},
   "outputs": [],
   "source": [
    "from sklearn import svm\n",
    "def SVM_classifier(Xt, yt, testx, testy):\n",
    "    print(\"----SVM----\\n\")\n",
    "    clf_svm = svm.LinearSVC(C=2)\n",
    "    clf_svm.fit(Xt, yt)\n",
    "    pred_SVM = clf_svm.predict(Xt)\n",
    "    print('------SVM Train-------')\n",
    "    print('precision: {}'.format(round(precision_score(yt, pred_SVM)*100, 3)))\n",
    "    print('recall: {}'.format(round(recall_score(yt, pred_SVM)*100,3)))\n",
    "    print('fscore: {}'.format(round(f1_score(yt, pred_SVM)*100,3)))\n",
    "    print('Accuracy Score: {}'.format(round(accuracy_score(yt, pred_SVM)*100,3)))\n",
    "    print('------SVM Test-------')\n",
    "    clf_svm.fit(testx, testy)\n",
    "    test_SVM = clf_svm.predict(testx)\n",
    "    print('precision: {}'.format(round(precision_score(testy, test_SVM)*100,3)))\n",
    "    print('recall: {}'.format(round(recall_score(testy, test_SVM)*100,3)))\n",
    "    print('fscore: {}'.format(round(f1_score(testy, test_SVM)*100,3)))\n",
    "    print('Accuracy Score: {}'.format(round(accuracy_score(testy, test_SVM)*100,3)))"
   ]
  },
  {
   "cell_type": "code",
   "execution_count": 22,
   "id": "f41580bb",
   "metadata": {},
   "outputs": [],
   "source": [
    "from xgboost import XGBClassifier\n",
    "def XGB_classifier(Xt, yt, testx, testy):\n",
    "    print(\"----XGB----\\n\")\n",
    "    clf_xgb = XGBClassifier()\n",
    "    clf_xgb.fit(Xt, yt)\n",
    "    pred_XGB = clf_xgb.predict(Xt)\n",
    "    print('------XGB Train-------')\n",
    "    print('precision: {}'.format(round(precision_score(yt, pred_XGB)*100, 3)))\n",
    "    print('recall: {}'.format(round(recall_score(yt, pred_XGB)*100,3)))\n",
    "    print('fscore: {}'.format(round(f1_score(yt, pred_XGB)*100,3)))\n",
    "    print('Accuracy Score: {}'.format(round(accuracy_score(yt, pred_XGB)*100,3)))\n",
    "    print('------XGB Test-------')\n",
    "    clf_xgb.fit(testx, testy)\n",
    "    test_XGB = clf_xgb.predict(testx)\n",
    "    print('precision: {}'.format(round(precision_score(testy, test_XGB)*100,3)))\n",
    "    print('recall: {}'.format(round(recall_score(testy, test_XGB)*100,3)))\n",
    "    print('fscore: {}'.format(round(f1_score(testy, test_XGB)*100,3)))\n",
    "    print('Accuracy Score: {}'.format(round(accuracy_score(testy, test_XGB)*100,3)))"
   ]
  },
  {
   "cell_type": "code",
   "execution_count": 23,
   "id": "1123a293",
   "metadata": {},
   "outputs": [],
   "source": [
    "from sklearn.ensemble import RandomForestClassifier\n",
    "def RF_classifier(Xt, yt, testx, testy):\n",
    "    print(\"----Random Forest----\\n\")\n",
    "    clf_rf = RandomForestClassifier(max_depth=2, random_state=0)\n",
    "    clf_rf.fit(Xt, yt)\n",
    "    pred_RF = clf_rf.predict(Xt)\n",
    "    print('------RF Train-------')\n",
    "    print('precision: {}'.format(round(precision_score(yt, pred_RF)*100, 3)))\n",
    "    print('recall: {}'.format(round(recall_score(yt, pred_RF)*100,3)))\n",
    "    print('fscore: {}'.format(round(f1_score(yt, pred_RF)*100,3)))\n",
    "    print('Accuracy Score: {}'.format(round(accuracy_score(yt, pred_RF)*100,3)))\n",
    "    print('------RF Test-------')\n",
    "    clf_rf.fit(testx, testy)\n",
    "    test_RF = clf_rf.predict(testx)\n",
    "    print('precision: {}'.format(round(precision_score(testy, test_RF)*100,3)))\n",
    "    print('recall: {}'.format(round(recall_score(testy, test_RF)*100,3)))\n",
    "    print('fscore: {}'.format(round(f1_score(testy, test_RF)*100,3)))\n",
    "    print('Accuracy Score: {}'.format(round(accuracy_score(testy, test_RF)*100,3)))"
   ]
  },
  {
   "cell_type": "code",
   "execution_count": 24,
   "id": "6dc1bbc8",
   "metadata": {},
   "outputs": [],
   "source": [
    "from sklearn.neural_network import MLPClassifier\n",
    "def MLP_classifier(Xt, yt, testx, testy):\n",
    "    print(\"----MLP----\\n\")\n",
    "    clf_mlp = MLPClassifier(solver='lbfgs', alpha=1e-5, hidden_layer_sizes=(5, 2), random_state=1)\n",
    "    clf_mlp.fit(Xt, yt)\n",
    "    pred_mlp = clf_mlp.predict(Xt)\n",
    "    print('------MLP Train-------')\n",
    "    print('precision: {}'.format(round(precision_score(yt, pred_mlp)*100, 3)))\n",
    "    print('recall: {}'.format(round(recall_score(yt, pred_mlp)*100,3)))\n",
    "    print('fscore: {}'.format(round(f1_score(yt, pred_mlp)*100,3)))\n",
    "    print('Accuracy Score: {}'.format(round(accuracy_score(yt, pred_mlp)*100,3)))\n",
    "    print('------MLP Test-------')\n",
    "    clf_mlp.fit(testx, testy)\n",
    "    test_mlp = clf_mlp.predict(testx)\n",
    "    print('precision: {}'.format(round(precision_score(testy, test_mlp)*100,3)))\n",
    "    print('recall: {}'.format(round(recall_score(testy, test_mlp)*100,3)))\n",
    "    print('fscore: {}'.format(round(f1_score(testy, test_mlp)*100,3)))\n",
    "    print('Accuracy Score: {}'.format(round(accuracy_score(testy, test_mlp)*100,3)))"
   ]
  },
  {
   "cell_type": "code",
   "execution_count": 28,
   "id": "989d67ce",
   "metadata": {},
   "outputs": [],
   "source": [
    "from sklearn.ensemble import AdaBoostClassifier\n",
    "def ADA_classifier(Xt, yt, testx, testy):\n",
    "    print(\"----ADA----\\n\")\n",
    "    clf_ada = AdaBoostClassifier(n_estimators=100, random_state=0)\n",
    "    clf_ada.fit(Xt, yt)\n",
    "    pred_ada = clf_ada.predict(Xt)\n",
    "    print('------ADA Train-------')\n",
    "    print('precision: {}'.format(round(precision_score(yt, pred_ada)*100, 3)))\n",
    "    print('recall: {}'.format(round(recall_score(yt, pred_ada)*100,3)))\n",
    "    print('fscore: {}'.format(round(f1_score(yt, pred_ada)*100,3)))\n",
    "    print('Accuracy Score: {}'.format(round(accuracy_score(yt, pred_ada)*100,3)))\n",
    "    print('------ADA Test-------')\n",
    "    clf_ada.fit(testx, testy)\n",
    "    test_ada = clf_ada.predict(testx)\n",
    "    print('precision: {}'.format(round(precision_score(testy, test_ada)*100,3)))\n",
    "    print('recall: {}'.format(round(recall_score(testy, test_ada)*100,3)))\n",
    "    print('fscore: {}'.format(round(f1_score(testy, test_ada)*100,3)))\n",
    "    print('Accuracy Score: {}'.format(round(accuracy_score(testy, test_ada)*100,3)))"
   ]
  },
  {
   "cell_type": "code",
   "execution_count": 31,
   "id": "119ae60b",
   "metadata": {
    "scrolled": true
   },
   "outputs": [
    {
     "name": "stdout",
     "output_type": "stream",
     "text": [
      "Processed Text(%)\n",
      "----BernouliNB----\n",
      "\n",
      "------BernouliNB Train-------\n",
      "precision: 90.281\n",
      "recall: 54.329\n",
      "fscore: 67.836\n",
      "Accuracy Score: 74.273\n",
      "------BernouliNB Test-------\n",
      "precision: 98.389\n",
      "recall: 64.896\n",
      "fscore: 78.207\n",
      "Accuracy Score: 81.848\n",
      "----Logistic Regression----\n",
      "\n",
      "------LR Train-------\n",
      "precision: 78.791\n",
      "recall: 81.004\n",
      "fscore: 79.882\n",
      "Accuracy Score: 79.625\n",
      "------LR Test-------\n",
      "precision: 84.882\n",
      "recall: 87.362\n",
      "fscore: 86.104\n",
      "Accuracy Score: 85.848\n",
      "----XGB----\n",
      "\n",
      "------XGB Train-------\n",
      "precision: 81.986\n",
      "recall: 82.289\n",
      "fscore: 82.137\n",
      "Accuracy Score: 82.127\n",
      "------XGB Test-------\n",
      "precision: 88.996\n",
      "recall: 91.157\n",
      "fscore: 90.064\n",
      "Accuracy Score: 89.905\n",
      "----SVM----\n",
      "\n",
      "------SVM Train-------\n",
      "precision: 94.989\n",
      "recall: 94.24\n",
      "fscore: 94.613\n",
      "Accuracy Score: 94.641\n",
      "------SVM Test-------\n",
      "precision: 99.315\n",
      "recall: 99.051\n",
      "fscore: 99.183\n",
      "Accuracy Score: 99.181\n",
      "----Random Forest----\n",
      "\n",
      "------RF Train-------\n",
      "precision: 65.66\n",
      "recall: 52.537\n",
      "fscore: 58.37\n",
      "Accuracy Score: 62.578\n",
      "------RF Test-------\n",
      "precision: 58.464\n",
      "recall: 85.199\n",
      "fscore: 69.344\n",
      "Accuracy Score: 62.19\n",
      "----MLP----\n",
      "\n",
      "------MLP Train-------\n",
      "precision: 96.973\n",
      "recall: 96.529\n",
      "fscore: 96.75\n",
      "Accuracy Score: 96.762\n",
      "------MLP Test-------\n",
      "precision: 98.478\n",
      "recall: 95.75\n",
      "fscore: 97.094\n",
      "Accuracy Score: 97.124\n"
     ]
    }
   ],
   "source": [
    "print(\"Processed Text(%)\")\n",
    "BernoulliNB_classifier(X_train_p, y_train_p, X_test_p, y_test_p )\n",
    "LogisticRegression_classifier(X_train_p, y_train_p, X_test_p, y_test_p )\n",
    "XGB_classifier(X_train_p, y_train_p, X_test_p, y_test_p )\n",
    "SVM_classifier(X_train_p, y_train_p, X_test_p, y_test_p )\n",
    "RF_classifier(X_train_p, y_train_p, X_test_p, y_test_p )\n",
    "MLP_classifier(X_train_p, y_train_p, X_test_p, y_test_p )"
   ]
  },
  {
   "cell_type": "code",
   "execution_count": null,
   "id": "5c9e53ac",
   "metadata": {},
   "outputs": [],
   "source": [
    "clf_nb = BernoulliNB(alpha=0.1).fit(X_train_p, y_train_p)\n",
    "clf_lr = LogisticRegression().fit(X_train_p, y_train_p)\n",
    "clf_svm = svm.LinearSVC(C=2).fit(X_train_p, y_train_p)\n",
    "clf_xgb = XGBClassifier().fit(X_train_p, y_train_p)\n",
    "clf_rf = RandomForestClassifier(max_depth=2, random_state=0).fit(X_train_p, y_train_p)\n",
    "clf_mlp = MLPClassifier(solver='lbfgs', alpha=1e-5, hidden_layer_sizes=(5, 2), random_state=1).fit(X_train_p, y_train_p)"
   ]
  },
  {
   "cell_type": "code",
   "execution_count": null,
   "id": "d2dbf666",
   "metadata": {
    "scrolled": false
   },
   "outputs": [],
   "source": [
    "from sklearn.metrics import roc_curve, roc_auc_score\n",
    "\n",
    "plt.figure(figsize=(15,7))\n",
    "plt.subplot(1,2,2)\n",
    "plt.plot([0, 1], [0, 1], 'k--')\n",
    "\n",
    "model_nb_proba=clf_nb.predict_proba(X_test_p)[:,1]\n",
    "fpr, tpr, thresholds  = roc_curve(y_test_p,model_nb_proba)\n",
    "plt.plot(fpr, tpr, label='BernoulliNB')\n",
    "\n",
    "model_lr_proba=clf_lr.predict_proba(X_test_p)[:,1]\n",
    "fpr, tpr, thresholds  = roc_curve(y_test_p,model_lr_proba)\n",
    "plt.plot(fpr, tpr, label='Logistic Regression')\n",
    "\n",
    "model_svm_proba=clf_svm._predict_proba_lr(X_test_p)[:,1]\n",
    "fpr, tpr, thresholds  = roc_curve(y_test_p,model_svm_proba)\n",
    "plt.plot(fpr, tpr, label='SVM')\n",
    "\n",
    "model_xgb_proba=clf_xgb.predict_proba(X_test_p)[:,1]\n",
    "fpr, tpr, thresholds  = roc_curve(y_test_p,model_xgb_proba)\n",
    "plt.plot(fpr, tpr, label='XGBoost')\n",
    "\n",
    "model_rf_proba=clf_rf.predict_proba(X_test_p)[:,1]\n",
    "fpr, tpr, thresholds  = roc_curve(y_test_p,model_rf_proba)\n",
    "plt.plot(fpr, tpr, label='Random Forest')\n",
    "\n",
    "\n",
    "plt.xlabel('False Positive Rate',fontsize=14)\n",
    "plt.ylabel('True Positive Rate',fontsize=14)\n",
    "plt.title('ROC Curve',fontsize=15)\n",
    "plt.legend()"
   ]
  },
  {
   "cell_type": "code",
   "execution_count": null,
   "id": "0a064922",
   "metadata": {},
   "outputs": [],
   "source": [
    "print(\"BernouliNB AUC: \", str(round(roc_auc_score(y_test_p, model_nb_proba)*100,3)))\n",
    "print(\"Logistic Regression AUC: \", str(round(roc_auc_score(y_test_p, model_lr_proba)*100,3)))\n",
    "print(\"SVM AUC: \", str(round(roc_auc_score(y_test_p, model_svm_proba)*100,3)))\n",
    "print(\"XGBoost AUC: \", str(round(roc_auc_score(y_test_p, model_xgb_proba)*100,3)))\n",
    "print(\"Random Forest AUC: \",str(round(roc_auc_score(y_test_p, model_rf_proba)*100,3)))"
   ]
  }
 ],
 "metadata": {
  "kernelspec": {
   "display_name": "Python 3 (ipykernel)",
   "language": "python",
   "name": "python3"
  },
  "language_info": {
   "codemirror_mode": {
    "name": "ipython",
    "version": 3
   },
   "file_extension": ".py",
   "mimetype": "text/x-python",
   "name": "python",
   "nbconvert_exporter": "python",
   "pygments_lexer": "ipython3",
   "version": "3.9.7"
  }
 },
 "nbformat": 4,
 "nbformat_minor": 5
}
