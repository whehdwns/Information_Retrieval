{
 "cells": [
  {
   "cell_type": "code",
   "execution_count": 1,
   "id": "c77b4af8",
   "metadata": {},
   "outputs": [],
   "source": [
    "import pandas as pd\n",
    "import numpy as np\n",
    "import nltk\n",
    "import re\n",
    "import os\n",
    "import math\n",
    "import string\n",
    "import time\n",
    "\n",
    "from sklearn import feature_extraction\n",
    "from sklearn.naive_bayes import BernoulliNB\n",
    "from sklearn.neighbors import KNeighborsClassifier\n",
    "from sklearn.feature_extraction.text import TfidfVectorizer\n",
    "from sklearn.linear_model import PassiveAggressiveClassifier\n",
    "from sklearn import svm"
   ]
  },
  {
   "cell_type": "code",
   "execution_count": 2,
   "id": "b2368512",
   "metadata": {},
   "outputs": [],
   "source": [
    "columns =['Assessment', 'Docid', 'Title', 'Authors', 'Journal', 'ISSN', 'Year','Language', 'Abstract','Keywords']\n",
    "\n",
    "train_df = pd.read_csv('phase1.train.shuf.tsv',sep='\\t',header=None, names=columns)\n",
    "dev_df = pd.read_csv('phase1.dev.shuf.tsv',sep='\\t',header=None, names=columns)\n",
    "test_df = pd.read_csv('phase1.test.shuf.tsv',sep='\\t',header=None,names=columns)"
   ]
  },
  {
   "cell_type": "code",
   "execution_count": 3,
   "id": "d4264df4",
   "metadata": {},
   "outputs": [
    {
     "data": {
      "text/html": [
       "<div>\n",
       "<style scoped>\n",
       "    .dataframe tbody tr th:only-of-type {\n",
       "        vertical-align: middle;\n",
       "    }\n",
       "\n",
       "    .dataframe tbody tr th {\n",
       "        vertical-align: top;\n",
       "    }\n",
       "\n",
       "    .dataframe thead th {\n",
       "        text-align: right;\n",
       "    }\n",
       "</style>\n",
       "<table border=\"1\" class=\"dataframe\">\n",
       "  <thead>\n",
       "    <tr style=\"text-align: right;\">\n",
       "      <th></th>\n",
       "      <th>Assessment</th>\n",
       "      <th>Docid</th>\n",
       "      <th>Title</th>\n",
       "      <th>Authors</th>\n",
       "      <th>Journal</th>\n",
       "      <th>ISSN</th>\n",
       "      <th>Year</th>\n",
       "      <th>Language</th>\n",
       "      <th>Abstract</th>\n",
       "      <th>Keywords</th>\n",
       "    </tr>\n",
       "  </thead>\n",
       "  <tbody>\n",
       "    <tr>\n",
       "      <th>0</th>\n",
       "      <td>-1</td>\n",
       "      <td>hash:3f1ebe70-a242-3b43-843c-eef89284607a</td>\n",
       "      <td>Misoprostol for treating postpartum haemorrhag...</td>\n",
       "      <td>Hofmeyr, G. J.;Ferreira, S.;Nikodem, V. C.;Man...</td>\n",
       "      <td>BMC Pregnancy and Childbirth</td>\n",
       "      <td>1471-2393</td>\n",
       "      <td>2004</td>\n",
       "      <td>eng</td>\n",
       "      <td>Background: Postpartum haemorrhage remains an ...</td>\n",
       "      <td>South Africa;adult;article;blood transfusion;c...</td>\n",
       "    </tr>\n",
       "    <tr>\n",
       "      <th>1</th>\n",
       "      <td>-1</td>\n",
       "      <td>hash:aa35378f-0460-37f1-b001-ac735e027333</td>\n",
       "      <td>Vitamin A supplements and diarrheal and respir...</td>\n",
       "      <td>Fawzi, W. W.;Mbise, R.;Spiegelman, D.;Fataki, ...</td>\n",
       "      <td>J Pediatr</td>\n",
       "      <td>0022-3476</td>\n",
       "      <td>2000</td>\n",
       "      <td>eng</td>\n",
       "      <td>OBJECTIVE: To determine the effect of vitamin ...</td>\n",
       "      <td>Child, Preschool;Diarrhea/ epidemiology;Dietar...</td>\n",
       "    </tr>\n",
       "  </tbody>\n",
       "</table>\n",
       "</div>"
      ],
      "text/plain": [
       "   Assessment                                      Docid  \\\n",
       "0          -1  hash:3f1ebe70-a242-3b43-843c-eef89284607a   \n",
       "1          -1  hash:aa35378f-0460-37f1-b001-ac735e027333   \n",
       "\n",
       "                                               Title  \\\n",
       "0  Misoprostol for treating postpartum haemorrhag...   \n",
       "1  Vitamin A supplements and diarrheal and respir...   \n",
       "\n",
       "                                             Authors  \\\n",
       "0  Hofmeyr, G. J.;Ferreira, S.;Nikodem, V. C.;Man...   \n",
       "1  Fawzi, W. W.;Mbise, R.;Spiegelman, D.;Fataki, ...   \n",
       "\n",
       "                        Journal       ISSN  Year Language  \\\n",
       "0  BMC Pregnancy and Childbirth  1471-2393  2004      eng   \n",
       "1                     J Pediatr  0022-3476  2000      eng   \n",
       "\n",
       "                                            Abstract  \\\n",
       "0  Background: Postpartum haemorrhage remains an ...   \n",
       "1  OBJECTIVE: To determine the effect of vitamin ...   \n",
       "\n",
       "                                            Keywords  \n",
       "0  South Africa;adult;article;blood transfusion;c...  \n",
       "1  Child, Preschool;Diarrhea/ epidemiology;Dietar...  "
      ]
     },
     "execution_count": 3,
     "metadata": {},
     "output_type": "execute_result"
    }
   ],
   "source": [
    "train_df.head(2)"
   ]
  },
  {
   "cell_type": "code",
   "execution_count": 4,
   "id": "17f17eec",
   "metadata": {},
   "outputs": [
    {
     "data": {
      "text/html": [
       "<div>\n",
       "<style scoped>\n",
       "    .dataframe tbody tr th:only-of-type {\n",
       "        vertical-align: middle;\n",
       "    }\n",
       "\n",
       "    .dataframe tbody tr th {\n",
       "        vertical-align: top;\n",
       "    }\n",
       "\n",
       "    .dataframe thead th {\n",
       "        text-align: right;\n",
       "    }\n",
       "</style>\n",
       "<table border=\"1\" class=\"dataframe\">\n",
       "  <thead>\n",
       "    <tr style=\"text-align: right;\">\n",
       "      <th></th>\n",
       "      <th>Docid</th>\n",
       "      <th>Title</th>\n",
       "      <th>Authors</th>\n",
       "      <th>Journal</th>\n",
       "      <th>ISSN</th>\n",
       "      <th>Year</th>\n",
       "      <th>Language</th>\n",
       "      <th>Abstract</th>\n",
       "      <th>Keywords</th>\n",
       "    </tr>\n",
       "    <tr>\n",
       "      <th>Assessment</th>\n",
       "      <th></th>\n",
       "      <th></th>\n",
       "      <th></th>\n",
       "      <th></th>\n",
       "      <th></th>\n",
       "      <th></th>\n",
       "      <th></th>\n",
       "      <th></th>\n",
       "      <th></th>\n",
       "    </tr>\n",
       "  </thead>\n",
       "  <tbody>\n",
       "    <tr>\n",
       "      <th>-1</th>\n",
       "      <td>20967</td>\n",
       "      <td>20967</td>\n",
       "      <td>20561</td>\n",
       "      <td>20148</td>\n",
       "      <td>12862</td>\n",
       "      <td>20287</td>\n",
       "      <td>20966</td>\n",
       "      <td>20966</td>\n",
       "      <td>20259</td>\n",
       "    </tr>\n",
       "    <tr>\n",
       "      <th>1</th>\n",
       "      <td>695</td>\n",
       "      <td>695</td>\n",
       "      <td>689</td>\n",
       "      <td>689</td>\n",
       "      <td>560</td>\n",
       "      <td>694</td>\n",
       "      <td>695</td>\n",
       "      <td>695</td>\n",
       "      <td>653</td>\n",
       "    </tr>\n",
       "  </tbody>\n",
       "</table>\n",
       "</div>"
      ],
      "text/plain": [
       "            Docid  Title  Authors  Journal   ISSN   Year  Language  Abstract  \\\n",
       "Assessment                                                                     \n",
       "-1          20967  20967    20561    20148  12862  20287     20966     20966   \n",
       " 1            695    695      689      689    560    694       695       695   \n",
       "\n",
       "            Keywords  \n",
       "Assessment            \n",
       "-1             20259  \n",
       " 1               653  "
      ]
     },
     "execution_count": 4,
     "metadata": {},
     "output_type": "execute_result"
    }
   ],
   "source": [
    "train_df.groupby(['Assessment']).count()"
   ]
  },
  {
   "cell_type": "code",
   "execution_count": 5,
   "id": "17e98a00",
   "metadata": {},
   "outputs": [
    {
     "data": {
      "text/plain": [
       "21662"
      ]
     },
     "execution_count": 5,
     "metadata": {},
     "output_type": "execute_result"
    }
   ],
   "source": [
    "len(train_df)"
   ]
  },
  {
   "cell_type": "code",
   "execution_count": 6,
   "id": "ac8849a7",
   "metadata": {},
   "outputs": [
    {
     "name": "stdout",
     "output_type": "stream",
     "text": [
      "# of Positive (-1): 3.208383344104884\n",
      "# of Negative (1): 96.79161665589511\n"
     ]
    }
   ],
   "source": [
    "print('# of Positive (-1): '+  str(train_df.groupby(['Assessment']).count()['Docid'][1] /len(train_df)*100))\n",
    "print('# of Negative (1): '+ str(train_df.groupby(['Assessment']).count()['Docid'][-1]/len(train_df)*100))"
   ]
  },
  {
   "cell_type": "code",
   "execution_count": 7,
   "id": "bc80d5c6",
   "metadata": {},
   "outputs": [
    {
     "data": {
      "text/plain": [
       "array(['eng', 'ger', 'fre', 'por', nan, 'chi', 'spa', 'afr', 'dut'],\n",
       "      dtype=object)"
      ]
     },
     "execution_count": 7,
     "metadata": {},
     "output_type": "execute_result"
    }
   ],
   "source": [
    "train_df['Language'].unique()"
   ]
  },
  {
   "cell_type": "code",
   "execution_count": 8,
   "id": "ad94aa9b",
   "metadata": {},
   "outputs": [
    {
     "name": "stdout",
     "output_type": "stream",
     "text": [
      "Size of train dataset (21662, 10)\n",
      "Size of dev dataset (4850, 10)\n",
      "Size of test dataset (4814, 10)\n"
     ]
    }
   ],
   "source": [
    "print('Size of train dataset', train_df.shape)\n",
    "print('Size of dev dataset', dev_df.shape)\n",
    "print('Size of test dataset', test_df.shape)"
   ]
  },
  {
   "cell_type": "code",
   "execution_count": 9,
   "id": "d7542029",
   "metadata": {},
   "outputs": [],
   "source": [
    "# Normalization\n",
    "#     lower-case words\n",
    "#     Change short term to long terms for verb.\n",
    "#     remove punctuation\n",
    "#         https://www.geeksforgeeks.org/python-remove-punctuation-from-string/\n",
    "#     remove numbers\n",
    "\n",
    "def normalization(word):\n",
    "    word = word.replace(\"'\",'')\n",
    "    word  = re.sub(r'[^\\w\\s]', '', word)\n",
    "    word = word.translate(str.maketrans('', '', string.punctuation))\n",
    "    return word"
   ]
  },
  {
   "cell_type": "code",
   "execution_count": 10,
   "id": "9f93755f",
   "metadata": {},
   "outputs": [],
   "source": [
    "# Preprocess dataset \n",
    "#   Normalization\n",
    "#   Removed Stop words \n",
    "def preprocess(data):\n",
    "    result = []\n",
    "    for line in data:\n",
    "        word = normalization(line)\n",
    "        word = word.lower().strip().split()\n",
    "        stopwords = nltk.corpus.stopwords.words(\"english\")\n",
    "        word = [w for w in word if not w in stopwords]\n",
    "        word = \" \".join(word)\n",
    "        result.append(word)\n",
    "    return result"
   ]
  },
  {
   "cell_type": "code",
   "execution_count": 11,
   "id": "1bb02106",
   "metadata": {},
   "outputs": [],
   "source": [
    "def precision_recall_f1score(pred, truth):\n",
    "    TP, FP, FN, TN = 0, 0, 0, 0\n",
    "    for p, t in zip(pred, truth):\n",
    "        if p==1:\n",
    "            if t ==1:\n",
    "                TP +=1\n",
    "            if t == -1:\n",
    "                FP +=1\n",
    "        if p ==-1:\n",
    "            if t == 1:\n",
    "                FN+=1\n",
    "            if t == -1:\n",
    "                TN +=1\n",
    "    precision = TP / (TP + FP)    \n",
    "    recall = TP / (TP + FN)\n",
    "    f1_score = 2*precision*recall/(precision+recall)\n",
    "    corr,total = TN+TP , TN+TP+FN+FP\n",
    "    accuracy = corr/total\n",
    "    print(\"Recall: {}/{} = {} %\".format(TP, TP+FN, recall*100))\n",
    "    print(\"Precision: {}/{} = {} %\".format(TP, TP+FP, precision*100) )\n",
    "    print(\"F1 score: {}\".format(f1_score))\n",
    "    print(\"Accuracy: {}/{} = {} %\".format(corr,total,accuracy*100) )\n",
    "    return recall, precision, f1_score, accuracy"
   ]
  },
  {
   "cell_type": "code",
   "execution_count": 12,
   "id": "d8746484",
   "metadata": {
    "scrolled": true
   },
   "outputs": [],
   "source": [
    "train_clean_df = preprocess(train_df['Title'])\n",
    "dev_clean_df = preprocess(dev_df['Title'])\n",
    "test_clean_df =  preprocess(test_df['Title'])"
   ]
  },
  {
   "cell_type": "code",
   "execution_count": 13,
   "id": "7faddc74",
   "metadata": {
    "scrolled": true
   },
   "outputs": [],
   "source": [
    "vectorize = TfidfVectorizer()\n",
    "train_X = vectorize.fit_transform(train_clean_df)\n",
    "\n",
    "dev_X= vectorize.transform(dev_clean_df)\n",
    "\n",
    "train_Y = train_df['Assessment']"
   ]
  },
  {
   "cell_type": "code",
   "execution_count": 14,
   "id": "09d00cbf",
   "metadata": {},
   "outputs": [
    {
     "name": "stdout",
     "output_type": "stream",
     "text": [
      "BernoulliNB\n"
     ]
    }
   ],
   "source": [
    "print('BernoulliNB')"
   ]
  },
  {
   "cell_type": "code",
   "execution_count": 15,
   "id": "d5e10925",
   "metadata": {},
   "outputs": [
    {
     "data": {
      "text/html": [
       "<style>#sk-container-id-1 {color: black;background-color: white;}#sk-container-id-1 pre{padding: 0;}#sk-container-id-1 div.sk-toggleable {background-color: white;}#sk-container-id-1 label.sk-toggleable__label {cursor: pointer;display: block;width: 100%;margin-bottom: 0;padding: 0.3em;box-sizing: border-box;text-align: center;}#sk-container-id-1 label.sk-toggleable__label-arrow:before {content: \"▸\";float: left;margin-right: 0.25em;color: #696969;}#sk-container-id-1 label.sk-toggleable__label-arrow:hover:before {color: black;}#sk-container-id-1 div.sk-estimator:hover label.sk-toggleable__label-arrow:before {color: black;}#sk-container-id-1 div.sk-toggleable__content {max-height: 0;max-width: 0;overflow: hidden;text-align: left;background-color: #f0f8ff;}#sk-container-id-1 div.sk-toggleable__content pre {margin: 0.2em;color: black;border-radius: 0.25em;background-color: #f0f8ff;}#sk-container-id-1 input.sk-toggleable__control:checked~div.sk-toggleable__content {max-height: 200px;max-width: 100%;overflow: auto;}#sk-container-id-1 input.sk-toggleable__control:checked~label.sk-toggleable__label-arrow:before {content: \"▾\";}#sk-container-id-1 div.sk-estimator input.sk-toggleable__control:checked~label.sk-toggleable__label {background-color: #d4ebff;}#sk-container-id-1 div.sk-label input.sk-toggleable__control:checked~label.sk-toggleable__label {background-color: #d4ebff;}#sk-container-id-1 input.sk-hidden--visually {border: 0;clip: rect(1px 1px 1px 1px);clip: rect(1px, 1px, 1px, 1px);height: 1px;margin: -1px;overflow: hidden;padding: 0;position: absolute;width: 1px;}#sk-container-id-1 div.sk-estimator {font-family: monospace;background-color: #f0f8ff;border: 1px dotted black;border-radius: 0.25em;box-sizing: border-box;margin-bottom: 0.5em;}#sk-container-id-1 div.sk-estimator:hover {background-color: #d4ebff;}#sk-container-id-1 div.sk-parallel-item::after {content: \"\";width: 100%;border-bottom: 1px solid gray;flex-grow: 1;}#sk-container-id-1 div.sk-label:hover label.sk-toggleable__label {background-color: #d4ebff;}#sk-container-id-1 div.sk-serial::before {content: \"\";position: absolute;border-left: 1px solid gray;box-sizing: border-box;top: 0;bottom: 0;left: 50%;z-index: 0;}#sk-container-id-1 div.sk-serial {display: flex;flex-direction: column;align-items: center;background-color: white;padding-right: 0.2em;padding-left: 0.2em;position: relative;}#sk-container-id-1 div.sk-item {position: relative;z-index: 1;}#sk-container-id-1 div.sk-parallel {display: flex;align-items: stretch;justify-content: center;background-color: white;position: relative;}#sk-container-id-1 div.sk-item::before, #sk-container-id-1 div.sk-parallel-item::before {content: \"\";position: absolute;border-left: 1px solid gray;box-sizing: border-box;top: 0;bottom: 0;left: 50%;z-index: -1;}#sk-container-id-1 div.sk-parallel-item {display: flex;flex-direction: column;z-index: 1;position: relative;background-color: white;}#sk-container-id-1 div.sk-parallel-item:first-child::after {align-self: flex-end;width: 50%;}#sk-container-id-1 div.sk-parallel-item:last-child::after {align-self: flex-start;width: 50%;}#sk-container-id-1 div.sk-parallel-item:only-child::after {width: 0;}#sk-container-id-1 div.sk-dashed-wrapped {border: 1px dashed gray;margin: 0 0.4em 0.5em 0.4em;box-sizing: border-box;padding-bottom: 0.4em;background-color: white;}#sk-container-id-1 div.sk-label label {font-family: monospace;font-weight: bold;display: inline-block;line-height: 1.2em;}#sk-container-id-1 div.sk-label-container {text-align: center;}#sk-container-id-1 div.sk-container {/* jupyter's `normalize.less` sets `[hidden] { display: none; }` but bootstrap.min.css set `[hidden] { display: none !important; }` so we also need the `!important` here to be able to override the default hidden behavior on the sphinx rendered scikit-learn.org. See: https://github.com/scikit-learn/scikit-learn/issues/21755 */display: inline-block !important;position: relative;}#sk-container-id-1 div.sk-text-repr-fallback {display: none;}</style><div id=\"sk-container-id-1\" class=\"sk-top-container\"><div class=\"sk-text-repr-fallback\"><pre>BernoulliNB(alpha=0.1)</pre><b>In a Jupyter environment, please rerun this cell to show the HTML representation or trust the notebook. <br />On GitHub, the HTML representation is unable to render, please try loading this page with nbviewer.org.</b></div><div class=\"sk-container\" hidden><div class=\"sk-item\"><div class=\"sk-estimator sk-toggleable\"><input class=\"sk-toggleable__control sk-hidden--visually\" id=\"sk-estimator-id-1\" type=\"checkbox\" checked><label for=\"sk-estimator-id-1\" class=\"sk-toggleable__label sk-toggleable__label-arrow\">BernoulliNB</label><div class=\"sk-toggleable__content\"><pre>BernoulliNB(alpha=0.1)</pre></div></div></div></div></div>"
      ],
      "text/plain": [
       "BernoulliNB(alpha=0.1)"
      ]
     },
     "execution_count": 15,
     "metadata": {},
     "output_type": "execute_result"
    }
   ],
   "source": [
    "clf_nb = BernoulliNB(alpha=0.1)\n",
    "clf_nb.fit(train_X, train_Y)"
   ]
  },
  {
   "cell_type": "code",
   "execution_count": 16,
   "id": "0b3ead20",
   "metadata": {},
   "outputs": [
    {
     "name": "stdout",
     "output_type": "stream",
     "text": [
      "Train BernoulliNB Title\n",
      "Recall: 527/695 = 75.8273381294964 %\n",
      "Precision: 527/862 = 61.1368909512761 %\n",
      "F1 score: 0.6769428387925497\n",
      "Accuracy: 21159/21662 = 97.67796140707229 %\n"
     ]
    },
    {
     "data": {
      "text/plain": [
       "(0.758273381294964, 0.611368909512761, 0.6769428387925497, 0.9767796140707229)"
      ]
     },
     "execution_count": 16,
     "metadata": {},
     "output_type": "execute_result"
    }
   ],
   "source": [
    "print(\"Train BernoulliNB Title\")\n",
    "preds_nb = clf_nb.predict(train_X)\n",
    "precision_recall_f1score(preds_nb, train_df['Assessment'])"
   ]
  },
  {
   "cell_type": "code",
   "execution_count": 17,
   "id": "893e1080",
   "metadata": {},
   "outputs": [
    {
     "name": "stdout",
     "output_type": "stream",
     "text": [
      "dev_X BernoulliNB Title\n",
      "Recall: 54/150 = 36.0 %\n",
      "Precision: 54/110 = 49.09090909090909 %\n",
      "F1 score: 0.4153846153846154\n",
      "Accuracy: 4698/4850 = 96.8659793814433 %\n"
     ]
    },
    {
     "data": {
      "text/plain": [
       "(0.36, 0.4909090909090909, 0.4153846153846154, 0.968659793814433)"
      ]
     },
     "execution_count": 17,
     "metadata": {},
     "output_type": "execute_result"
    }
   ],
   "source": [
    "print(\"dev_X BernoulliNB Title\")\n",
    "preds_nb_dev = clf_nb.predict(dev_X)\n",
    "precision_recall_f1score(preds_nb_dev, dev_df['Assessment'])"
   ]
  },
  {
   "cell_type": "markdown",
   "id": "39ba99e6",
   "metadata": {},
   "source": [
    "## Experiment #1: Is More Text Better?"
   ]
  },
  {
   "cell_type": "code",
   "execution_count": 18,
   "id": "3623edc7",
   "metadata": {},
   "outputs": [
    {
     "data": {
      "text/html": [
       "<div>\n",
       "<style scoped>\n",
       "    .dataframe tbody tr th:only-of-type {\n",
       "        vertical-align: middle;\n",
       "    }\n",
       "\n",
       "    .dataframe tbody tr th {\n",
       "        vertical-align: top;\n",
       "    }\n",
       "\n",
       "    .dataframe thead th {\n",
       "        text-align: right;\n",
       "    }\n",
       "</style>\n",
       "<table border=\"1\" class=\"dataframe\">\n",
       "  <thead>\n",
       "    <tr style=\"text-align: right;\">\n",
       "      <th></th>\n",
       "      <th>Assessment</th>\n",
       "      <th>Docid</th>\n",
       "      <th>Title</th>\n",
       "      <th>Authors</th>\n",
       "      <th>Journal</th>\n",
       "      <th>ISSN</th>\n",
       "      <th>Year</th>\n",
       "      <th>Language</th>\n",
       "      <th>Abstract</th>\n",
       "      <th>Keywords</th>\n",
       "    </tr>\n",
       "  </thead>\n",
       "  <tbody>\n",
       "    <tr>\n",
       "      <th>0</th>\n",
       "      <td>-1</td>\n",
       "      <td>hash:3f1ebe70-a242-3b43-843c-eef89284607a</td>\n",
       "      <td>Misoprostol for treating postpartum haemorrhag...</td>\n",
       "      <td>Hofmeyr, G. J.;Ferreira, S.;Nikodem, V. C.;Man...</td>\n",
       "      <td>BMC Pregnancy and Childbirth</td>\n",
       "      <td>1471-2393</td>\n",
       "      <td>2004</td>\n",
       "      <td>eng</td>\n",
       "      <td>Background: Postpartum haemorrhage remains an ...</td>\n",
       "      <td>South Africa;adult;article;blood transfusion;c...</td>\n",
       "    </tr>\n",
       "  </tbody>\n",
       "</table>\n",
       "</div>"
      ],
      "text/plain": [
       "   Assessment                                      Docid  \\\n",
       "0          -1  hash:3f1ebe70-a242-3b43-843c-eef89284607a   \n",
       "\n",
       "                                               Title  \\\n",
       "0  Misoprostol for treating postpartum haemorrhag...   \n",
       "\n",
       "                                             Authors  \\\n",
       "0  Hofmeyr, G. J.;Ferreira, S.;Nikodem, V. C.;Man...   \n",
       "\n",
       "                        Journal       ISSN  Year Language  \\\n",
       "0  BMC Pregnancy and Childbirth  1471-2393  2004      eng   \n",
       "\n",
       "                                            Abstract  \\\n",
       "0  Background: Postpartum haemorrhage remains an ...   \n",
       "\n",
       "                                            Keywords  \n",
       "0  South Africa;adult;article;blood transfusion;c...  "
      ]
     },
     "execution_count": 18,
     "metadata": {},
     "output_type": "execute_result"
    }
   ],
   "source": [
    "train_df.head(1)"
   ]
  },
  {
   "cell_type": "code",
   "execution_count": 19,
   "id": "c7e30170",
   "metadata": {},
   "outputs": [],
   "source": [
    "train_df['Abstract'] = train_df['Abstract'].fillna('')\n",
    "dev_df['Abstract'] = dev_df['Abstract'].fillna('')\n",
    "test_df['Abstract'] = test_df['Abstract'].fillna('')\n",
    "\n",
    "train_df['Keywords'] = train_df['Keywords'].fillna('')\n",
    "dev_df['Keywords'] = dev_df['Keywords'].fillna('')\n",
    "test_df['Keywords'] = test_df['Keywords'].fillna('')"
   ]
  },
  {
   "cell_type": "code",
   "execution_count": 20,
   "id": "d2a333af",
   "metadata": {},
   "outputs": [],
   "source": [
    "train_long_df = train_df.assign(More_Text = lambda train_en: train_en['Title'] + \" \" + train_en['Abstract'] + \" \" + train_en['Keywords'])\n",
    "dev_long_df = dev_df.assign(More_Text = lambda dev_en: dev_en['Title'] + \" \" + dev_en['Abstract'] + \" \" + dev_en['Keywords'])\n",
    "test_long_df = test_df.assign(More_Text = lambda test_en: test_en['Title'] + \" \" + test_en['Abstract'] + \" \" + test_en['Keywords'])"
   ]
  },
  {
   "cell_type": "code",
   "execution_count": 21,
   "id": "2e676b25",
   "metadata": {},
   "outputs": [
    {
     "name": "stdout",
     "output_type": "stream",
     "text": [
      "Title, Abstract, Keywords\n"
     ]
    }
   ],
   "source": [
    "print(\"Title, Abstract, Keywords\")"
   ]
  },
  {
   "cell_type": "code",
   "execution_count": 22,
   "id": "e428352e",
   "metadata": {},
   "outputs": [],
   "source": [
    "train_clean_long_df = preprocess(train_long_df['More_Text'])\n",
    "dev_clean_long_df = preprocess(dev_long_df['More_Text'])\n",
    "test_clean_long_df =  preprocess(test_long_df['More_Text'])"
   ]
  },
  {
   "cell_type": "code",
   "execution_count": 23,
   "id": "6e831c39",
   "metadata": {},
   "outputs": [],
   "source": [
    "vectorize = TfidfVectorizer()\n",
    "train_long_X = vectorize.fit_transform(train_clean_long_df)\n",
    "\n",
    "dev_long_X= vectorize.transform(dev_clean_long_df)\n",
    "\n",
    "train_long_Y = train_long_df['Assessment']"
   ]
  },
  {
   "cell_type": "code",
   "execution_count": 24,
   "id": "e54cf3de",
   "metadata": {},
   "outputs": [
    {
     "name": "stdout",
     "output_type": "stream",
     "text": [
      "BernoulliNB\n"
     ]
    }
   ],
   "source": [
    "print('BernoulliNB')"
   ]
  },
  {
   "cell_type": "code",
   "execution_count": 25,
   "id": "c1663a8b",
   "metadata": {},
   "outputs": [
    {
     "data": {
      "text/html": [
       "<style>#sk-container-id-2 {color: black;background-color: white;}#sk-container-id-2 pre{padding: 0;}#sk-container-id-2 div.sk-toggleable {background-color: white;}#sk-container-id-2 label.sk-toggleable__label {cursor: pointer;display: block;width: 100%;margin-bottom: 0;padding: 0.3em;box-sizing: border-box;text-align: center;}#sk-container-id-2 label.sk-toggleable__label-arrow:before {content: \"▸\";float: left;margin-right: 0.25em;color: #696969;}#sk-container-id-2 label.sk-toggleable__label-arrow:hover:before {color: black;}#sk-container-id-2 div.sk-estimator:hover label.sk-toggleable__label-arrow:before {color: black;}#sk-container-id-2 div.sk-toggleable__content {max-height: 0;max-width: 0;overflow: hidden;text-align: left;background-color: #f0f8ff;}#sk-container-id-2 div.sk-toggleable__content pre {margin: 0.2em;color: black;border-radius: 0.25em;background-color: #f0f8ff;}#sk-container-id-2 input.sk-toggleable__control:checked~div.sk-toggleable__content {max-height: 200px;max-width: 100%;overflow: auto;}#sk-container-id-2 input.sk-toggleable__control:checked~label.sk-toggleable__label-arrow:before {content: \"▾\";}#sk-container-id-2 div.sk-estimator input.sk-toggleable__control:checked~label.sk-toggleable__label {background-color: #d4ebff;}#sk-container-id-2 div.sk-label input.sk-toggleable__control:checked~label.sk-toggleable__label {background-color: #d4ebff;}#sk-container-id-2 input.sk-hidden--visually {border: 0;clip: rect(1px 1px 1px 1px);clip: rect(1px, 1px, 1px, 1px);height: 1px;margin: -1px;overflow: hidden;padding: 0;position: absolute;width: 1px;}#sk-container-id-2 div.sk-estimator {font-family: monospace;background-color: #f0f8ff;border: 1px dotted black;border-radius: 0.25em;box-sizing: border-box;margin-bottom: 0.5em;}#sk-container-id-2 div.sk-estimator:hover {background-color: #d4ebff;}#sk-container-id-2 div.sk-parallel-item::after {content: \"\";width: 100%;border-bottom: 1px solid gray;flex-grow: 1;}#sk-container-id-2 div.sk-label:hover label.sk-toggleable__label {background-color: #d4ebff;}#sk-container-id-2 div.sk-serial::before {content: \"\";position: absolute;border-left: 1px solid gray;box-sizing: border-box;top: 0;bottom: 0;left: 50%;z-index: 0;}#sk-container-id-2 div.sk-serial {display: flex;flex-direction: column;align-items: center;background-color: white;padding-right: 0.2em;padding-left: 0.2em;position: relative;}#sk-container-id-2 div.sk-item {position: relative;z-index: 1;}#sk-container-id-2 div.sk-parallel {display: flex;align-items: stretch;justify-content: center;background-color: white;position: relative;}#sk-container-id-2 div.sk-item::before, #sk-container-id-2 div.sk-parallel-item::before {content: \"\";position: absolute;border-left: 1px solid gray;box-sizing: border-box;top: 0;bottom: 0;left: 50%;z-index: -1;}#sk-container-id-2 div.sk-parallel-item {display: flex;flex-direction: column;z-index: 1;position: relative;background-color: white;}#sk-container-id-2 div.sk-parallel-item:first-child::after {align-self: flex-end;width: 50%;}#sk-container-id-2 div.sk-parallel-item:last-child::after {align-self: flex-start;width: 50%;}#sk-container-id-2 div.sk-parallel-item:only-child::after {width: 0;}#sk-container-id-2 div.sk-dashed-wrapped {border: 1px dashed gray;margin: 0 0.4em 0.5em 0.4em;box-sizing: border-box;padding-bottom: 0.4em;background-color: white;}#sk-container-id-2 div.sk-label label {font-family: monospace;font-weight: bold;display: inline-block;line-height: 1.2em;}#sk-container-id-2 div.sk-label-container {text-align: center;}#sk-container-id-2 div.sk-container {/* jupyter's `normalize.less` sets `[hidden] { display: none; }` but bootstrap.min.css set `[hidden] { display: none !important; }` so we also need the `!important` here to be able to override the default hidden behavior on the sphinx rendered scikit-learn.org. See: https://github.com/scikit-learn/scikit-learn/issues/21755 */display: inline-block !important;position: relative;}#sk-container-id-2 div.sk-text-repr-fallback {display: none;}</style><div id=\"sk-container-id-2\" class=\"sk-top-container\"><div class=\"sk-text-repr-fallback\"><pre>BernoulliNB(alpha=0.1)</pre><b>In a Jupyter environment, please rerun this cell to show the HTML representation or trust the notebook. <br />On GitHub, the HTML representation is unable to render, please try loading this page with nbviewer.org.</b></div><div class=\"sk-container\" hidden><div class=\"sk-item\"><div class=\"sk-estimator sk-toggleable\"><input class=\"sk-toggleable__control sk-hidden--visually\" id=\"sk-estimator-id-2\" type=\"checkbox\" checked><label for=\"sk-estimator-id-2\" class=\"sk-toggleable__label sk-toggleable__label-arrow\">BernoulliNB</label><div class=\"sk-toggleable__content\"><pre>BernoulliNB(alpha=0.1)</pre></div></div></div></div></div>"
      ],
      "text/plain": [
       "BernoulliNB(alpha=0.1)"
      ]
     },
     "execution_count": 25,
     "metadata": {},
     "output_type": "execute_result"
    }
   ],
   "source": [
    "clf_nb_long = BernoulliNB(alpha=0.1)\n",
    "clf_nb_long.fit(train_long_X, train_long_Y)"
   ]
  },
  {
   "cell_type": "code",
   "execution_count": 26,
   "id": "7a5b360b",
   "metadata": {},
   "outputs": [
    {
     "name": "stdout",
     "output_type": "stream",
     "text": [
      "Train_long_X BernoulliNB\n",
      "Recall: 645/695 = 92.80575539568345 %\n",
      "Precision: 645/974 = 66.22176591375771 %\n",
      "F1 score: 0.7729179149191133\n",
      "Accuracy: 21283/21662 = 98.25039239220756 %\n"
     ]
    },
    {
     "data": {
      "text/plain": [
       "(0.9280575539568345, 0.662217659137577, 0.7729179149191133, 0.9825039239220755)"
      ]
     },
     "execution_count": 26,
     "metadata": {},
     "output_type": "execute_result"
    }
   ],
   "source": [
    "print(\"Train_long_X BernoulliNB\")\n",
    "preds_nb_long = clf_nb_long.predict(train_long_X)\n",
    "precision_recall_f1score(preds_nb_long, train_long_df['Assessment'])"
   ]
  },
  {
   "cell_type": "code",
   "execution_count": 27,
   "id": "80ffbcc2",
   "metadata": {},
   "outputs": [
    {
     "name": "stdout",
     "output_type": "stream",
     "text": [
      "Dev_long_X BernoulliNB\n",
      "Recall: 48/150 = 32.0 %\n",
      "Precision: 48/86 = 55.81395348837209 %\n",
      "F1 score: 0.4067796610169492\n",
      "Accuracy: 4710/4850 = 97.11340206185567 %\n"
     ]
    },
    {
     "data": {
      "text/plain": [
       "(0.32, 0.5581395348837209, 0.4067796610169492, 0.9711340206185567)"
      ]
     },
     "execution_count": 27,
     "metadata": {},
     "output_type": "execute_result"
    }
   ],
   "source": [
    "print(\"Dev_long_X BernoulliNB\")\n",
    "preds_nb_dev_long = clf_nb_long.predict(dev_long_X)\n",
    "precision_recall_f1score(preds_nb_dev_long, dev_long_df['Assessment'])"
   ]
  },
  {
   "cell_type": "markdown",
   "id": "d70e704c",
   "metadata": {},
   "source": [
    "## Experiment #2: Surprise Me\n",
    "Conduct another experiment, preferably something non-trivial. \n",
    "1. Using Another Machine Learning Model"
   ]
  },
  {
   "cell_type": "code",
   "execution_count": 28,
   "id": "8c7d0234",
   "metadata": {},
   "outputs": [
    {
     "name": "stdout",
     "output_type": "stream",
     "text": [
      "Experiment #2\n"
     ]
    }
   ],
   "source": [
    "print(\"Experiment #2\")"
   ]
  },
  {
   "cell_type": "markdown",
   "id": "00750475",
   "metadata": {},
   "source": [
    "### KNN"
   ]
  },
  {
   "cell_type": "code",
   "execution_count": 29,
   "id": "9229f348",
   "metadata": {},
   "outputs": [
    {
     "name": "stdout",
     "output_type": "stream",
     "text": [
      "KNN\n"
     ]
    }
   ],
   "source": [
    "print(\"KNN\")"
   ]
  },
  {
   "cell_type": "code",
   "execution_count": 30,
   "id": "55e21ba8",
   "metadata": {},
   "outputs": [
    {
     "data": {
      "text/html": [
       "<style>#sk-container-id-3 {color: black;background-color: white;}#sk-container-id-3 pre{padding: 0;}#sk-container-id-3 div.sk-toggleable {background-color: white;}#sk-container-id-3 label.sk-toggleable__label {cursor: pointer;display: block;width: 100%;margin-bottom: 0;padding: 0.3em;box-sizing: border-box;text-align: center;}#sk-container-id-3 label.sk-toggleable__label-arrow:before {content: \"▸\";float: left;margin-right: 0.25em;color: #696969;}#sk-container-id-3 label.sk-toggleable__label-arrow:hover:before {color: black;}#sk-container-id-3 div.sk-estimator:hover label.sk-toggleable__label-arrow:before {color: black;}#sk-container-id-3 div.sk-toggleable__content {max-height: 0;max-width: 0;overflow: hidden;text-align: left;background-color: #f0f8ff;}#sk-container-id-3 div.sk-toggleable__content pre {margin: 0.2em;color: black;border-radius: 0.25em;background-color: #f0f8ff;}#sk-container-id-3 input.sk-toggleable__control:checked~div.sk-toggleable__content {max-height: 200px;max-width: 100%;overflow: auto;}#sk-container-id-3 input.sk-toggleable__control:checked~label.sk-toggleable__label-arrow:before {content: \"▾\";}#sk-container-id-3 div.sk-estimator input.sk-toggleable__control:checked~label.sk-toggleable__label {background-color: #d4ebff;}#sk-container-id-3 div.sk-label input.sk-toggleable__control:checked~label.sk-toggleable__label {background-color: #d4ebff;}#sk-container-id-3 input.sk-hidden--visually {border: 0;clip: rect(1px 1px 1px 1px);clip: rect(1px, 1px, 1px, 1px);height: 1px;margin: -1px;overflow: hidden;padding: 0;position: absolute;width: 1px;}#sk-container-id-3 div.sk-estimator {font-family: monospace;background-color: #f0f8ff;border: 1px dotted black;border-radius: 0.25em;box-sizing: border-box;margin-bottom: 0.5em;}#sk-container-id-3 div.sk-estimator:hover {background-color: #d4ebff;}#sk-container-id-3 div.sk-parallel-item::after {content: \"\";width: 100%;border-bottom: 1px solid gray;flex-grow: 1;}#sk-container-id-3 div.sk-label:hover label.sk-toggleable__label {background-color: #d4ebff;}#sk-container-id-3 div.sk-serial::before {content: \"\";position: absolute;border-left: 1px solid gray;box-sizing: border-box;top: 0;bottom: 0;left: 50%;z-index: 0;}#sk-container-id-3 div.sk-serial {display: flex;flex-direction: column;align-items: center;background-color: white;padding-right: 0.2em;padding-left: 0.2em;position: relative;}#sk-container-id-3 div.sk-item {position: relative;z-index: 1;}#sk-container-id-3 div.sk-parallel {display: flex;align-items: stretch;justify-content: center;background-color: white;position: relative;}#sk-container-id-3 div.sk-item::before, #sk-container-id-3 div.sk-parallel-item::before {content: \"\";position: absolute;border-left: 1px solid gray;box-sizing: border-box;top: 0;bottom: 0;left: 50%;z-index: -1;}#sk-container-id-3 div.sk-parallel-item {display: flex;flex-direction: column;z-index: 1;position: relative;background-color: white;}#sk-container-id-3 div.sk-parallel-item:first-child::after {align-self: flex-end;width: 50%;}#sk-container-id-3 div.sk-parallel-item:last-child::after {align-self: flex-start;width: 50%;}#sk-container-id-3 div.sk-parallel-item:only-child::after {width: 0;}#sk-container-id-3 div.sk-dashed-wrapped {border: 1px dashed gray;margin: 0 0.4em 0.5em 0.4em;box-sizing: border-box;padding-bottom: 0.4em;background-color: white;}#sk-container-id-3 div.sk-label label {font-family: monospace;font-weight: bold;display: inline-block;line-height: 1.2em;}#sk-container-id-3 div.sk-label-container {text-align: center;}#sk-container-id-3 div.sk-container {/* jupyter's `normalize.less` sets `[hidden] { display: none; }` but bootstrap.min.css set `[hidden] { display: none !important; }` so we also need the `!important` here to be able to override the default hidden behavior on the sphinx rendered scikit-learn.org. See: https://github.com/scikit-learn/scikit-learn/issues/21755 */display: inline-block !important;position: relative;}#sk-container-id-3 div.sk-text-repr-fallback {display: none;}</style><div id=\"sk-container-id-3\" class=\"sk-top-container\"><div class=\"sk-text-repr-fallback\"><pre>KNeighborsClassifier(weights=&#x27;distance&#x27;)</pre><b>In a Jupyter environment, please rerun this cell to show the HTML representation or trust the notebook. <br />On GitHub, the HTML representation is unable to render, please try loading this page with nbviewer.org.</b></div><div class=\"sk-container\" hidden><div class=\"sk-item\"><div class=\"sk-estimator sk-toggleable\"><input class=\"sk-toggleable__control sk-hidden--visually\" id=\"sk-estimator-id-3\" type=\"checkbox\" checked><label for=\"sk-estimator-id-3\" class=\"sk-toggleable__label sk-toggleable__label-arrow\">KNeighborsClassifier</label><div class=\"sk-toggleable__content\"><pre>KNeighborsClassifier(weights=&#x27;distance&#x27;)</pre></div></div></div></div></div>"
      ],
      "text/plain": [
       "KNeighborsClassifier(weights='distance')"
      ]
     },
     "execution_count": 30,
     "metadata": {},
     "output_type": "execute_result"
    }
   ],
   "source": [
    "clf_knn=KNeighborsClassifier(n_neighbors=5, weights='distance')\n",
    "clf_knn.fit(train_long_X, train_long_Y)"
   ]
  },
  {
   "cell_type": "code",
   "execution_count": 31,
   "id": "31dbc77a",
   "metadata": {},
   "outputs": [
    {
     "name": "stdout",
     "output_type": "stream",
     "text": [
      "Train_long_X KNN\n",
      "Recall: 694/695 = 99.85611510791367 %\n",
      "Precision: 694/694 = 100.0 %\n",
      "F1 score: 0.9992800575953923\n",
      "Accuracy: 21661/21662 = 99.99538362108763 %\n"
     ]
    },
    {
     "data": {
      "text/plain": [
       "(0.9985611510791367, 1.0, 0.9992800575953923, 0.9999538362108762)"
      ]
     },
     "execution_count": 31,
     "metadata": {},
     "output_type": "execute_result"
    }
   ],
   "source": [
    "print(\"Train_long_X KNN\")\n",
    "preds_knn = clf_knn.predict(train_long_X)\n",
    "precision_recall_f1score(preds_knn, train_long_df['Assessment'])"
   ]
  },
  {
   "cell_type": "code",
   "execution_count": 32,
   "id": "abe43347",
   "metadata": {},
   "outputs": [
    {
     "name": "stdout",
     "output_type": "stream",
     "text": [
      "Dev_long_X KNN\n",
      "Recall: 14/150 = 9.333333333333334 %\n",
      "Precision: 14/36 = 38.88888888888889 %\n",
      "F1 score: 0.15053763440860216\n",
      "Accuracy: 4692/4850 = 96.74226804123711 %\n"
     ]
    },
    {
     "data": {
      "text/plain": [
       "(0.09333333333333334,\n",
       " 0.3888888888888889,\n",
       " 0.15053763440860216,\n",
       " 0.9674226804123711)"
      ]
     },
     "execution_count": 32,
     "metadata": {},
     "output_type": "execute_result"
    }
   ],
   "source": [
    "print(\"Dev_long_X KNN\")\n",
    "preds_knn_dev_long =clf_knn.predict(dev_long_X)\n",
    "precision_recall_f1score(preds_knn_dev_long, dev_long_df['Assessment'])"
   ]
  },
  {
   "cell_type": "markdown",
   "id": "8a39c37a",
   "metadata": {},
   "source": [
    "### PassiveAggressiveClassifier"
   ]
  },
  {
   "cell_type": "code",
   "execution_count": 33,
   "id": "84b35c32",
   "metadata": {},
   "outputs": [
    {
     "name": "stdout",
     "output_type": "stream",
     "text": [
      "PassiveAggressiveClassifier\n"
     ]
    }
   ],
   "source": [
    "print(\"PassiveAggressiveClassifier\")"
   ]
  },
  {
   "cell_type": "code",
   "execution_count": 34,
   "id": "64bb4654",
   "metadata": {},
   "outputs": [
    {
     "data": {
      "text/html": [
       "<style>#sk-container-id-4 {color: black;background-color: white;}#sk-container-id-4 pre{padding: 0;}#sk-container-id-4 div.sk-toggleable {background-color: white;}#sk-container-id-4 label.sk-toggleable__label {cursor: pointer;display: block;width: 100%;margin-bottom: 0;padding: 0.3em;box-sizing: border-box;text-align: center;}#sk-container-id-4 label.sk-toggleable__label-arrow:before {content: \"▸\";float: left;margin-right: 0.25em;color: #696969;}#sk-container-id-4 label.sk-toggleable__label-arrow:hover:before {color: black;}#sk-container-id-4 div.sk-estimator:hover label.sk-toggleable__label-arrow:before {color: black;}#sk-container-id-4 div.sk-toggleable__content {max-height: 0;max-width: 0;overflow: hidden;text-align: left;background-color: #f0f8ff;}#sk-container-id-4 div.sk-toggleable__content pre {margin: 0.2em;color: black;border-radius: 0.25em;background-color: #f0f8ff;}#sk-container-id-4 input.sk-toggleable__control:checked~div.sk-toggleable__content {max-height: 200px;max-width: 100%;overflow: auto;}#sk-container-id-4 input.sk-toggleable__control:checked~label.sk-toggleable__label-arrow:before {content: \"▾\";}#sk-container-id-4 div.sk-estimator input.sk-toggleable__control:checked~label.sk-toggleable__label {background-color: #d4ebff;}#sk-container-id-4 div.sk-label input.sk-toggleable__control:checked~label.sk-toggleable__label {background-color: #d4ebff;}#sk-container-id-4 input.sk-hidden--visually {border: 0;clip: rect(1px 1px 1px 1px);clip: rect(1px, 1px, 1px, 1px);height: 1px;margin: -1px;overflow: hidden;padding: 0;position: absolute;width: 1px;}#sk-container-id-4 div.sk-estimator {font-family: monospace;background-color: #f0f8ff;border: 1px dotted black;border-radius: 0.25em;box-sizing: border-box;margin-bottom: 0.5em;}#sk-container-id-4 div.sk-estimator:hover {background-color: #d4ebff;}#sk-container-id-4 div.sk-parallel-item::after {content: \"\";width: 100%;border-bottom: 1px solid gray;flex-grow: 1;}#sk-container-id-4 div.sk-label:hover label.sk-toggleable__label {background-color: #d4ebff;}#sk-container-id-4 div.sk-serial::before {content: \"\";position: absolute;border-left: 1px solid gray;box-sizing: border-box;top: 0;bottom: 0;left: 50%;z-index: 0;}#sk-container-id-4 div.sk-serial {display: flex;flex-direction: column;align-items: center;background-color: white;padding-right: 0.2em;padding-left: 0.2em;position: relative;}#sk-container-id-4 div.sk-item {position: relative;z-index: 1;}#sk-container-id-4 div.sk-parallel {display: flex;align-items: stretch;justify-content: center;background-color: white;position: relative;}#sk-container-id-4 div.sk-item::before, #sk-container-id-4 div.sk-parallel-item::before {content: \"\";position: absolute;border-left: 1px solid gray;box-sizing: border-box;top: 0;bottom: 0;left: 50%;z-index: -1;}#sk-container-id-4 div.sk-parallel-item {display: flex;flex-direction: column;z-index: 1;position: relative;background-color: white;}#sk-container-id-4 div.sk-parallel-item:first-child::after {align-self: flex-end;width: 50%;}#sk-container-id-4 div.sk-parallel-item:last-child::after {align-self: flex-start;width: 50%;}#sk-container-id-4 div.sk-parallel-item:only-child::after {width: 0;}#sk-container-id-4 div.sk-dashed-wrapped {border: 1px dashed gray;margin: 0 0.4em 0.5em 0.4em;box-sizing: border-box;padding-bottom: 0.4em;background-color: white;}#sk-container-id-4 div.sk-label label {font-family: monospace;font-weight: bold;display: inline-block;line-height: 1.2em;}#sk-container-id-4 div.sk-label-container {text-align: center;}#sk-container-id-4 div.sk-container {/* jupyter's `normalize.less` sets `[hidden] { display: none; }` but bootstrap.min.css set `[hidden] { display: none !important; }` so we also need the `!important` here to be able to override the default hidden behavior on the sphinx rendered scikit-learn.org. See: https://github.com/scikit-learn/scikit-learn/issues/21755 */display: inline-block !important;position: relative;}#sk-container-id-4 div.sk-text-repr-fallback {display: none;}</style><div id=\"sk-container-id-4\" class=\"sk-top-container\"><div class=\"sk-text-repr-fallback\"><pre>PassiveAggressiveClassifier(max_iter=100)</pre><b>In a Jupyter environment, please rerun this cell to show the HTML representation or trust the notebook. <br />On GitHub, the HTML representation is unable to render, please try loading this page with nbviewer.org.</b></div><div class=\"sk-container\" hidden><div class=\"sk-item\"><div class=\"sk-estimator sk-toggleable\"><input class=\"sk-toggleable__control sk-hidden--visually\" id=\"sk-estimator-id-4\" type=\"checkbox\" checked><label for=\"sk-estimator-id-4\" class=\"sk-toggleable__label sk-toggleable__label-arrow\">PassiveAggressiveClassifier</label><div class=\"sk-toggleable__content\"><pre>PassiveAggressiveClassifier(max_iter=100)</pre></div></div></div></div></div>"
      ],
      "text/plain": [
       "PassiveAggressiveClassifier(max_iter=100)"
      ]
     },
     "execution_count": 34,
     "metadata": {},
     "output_type": "execute_result"
    }
   ],
   "source": [
    "clf_pass = PassiveAggressiveClassifier(max_iter=100)\n",
    "clf_pass.fit(train_long_X, train_long_Y)"
   ]
  },
  {
   "cell_type": "code",
   "execution_count": 35,
   "id": "c739d44b",
   "metadata": {},
   "outputs": [
    {
     "name": "stdout",
     "output_type": "stream",
     "text": [
      "Train_long_X PassiveAggressiveClassifier\n",
      "Recall: 695/695 = 100.0 %\n",
      "Precision: 695/696 = 99.85632183908046 %\n",
      "F1 score: 0.9992810927390366\n",
      "Accuracy: 21661/21662 = 99.99538362108763 %\n"
     ]
    },
    {
     "data": {
      "text/plain": [
       "(1.0, 0.9985632183908046, 0.9992810927390366, 0.9999538362108762)"
      ]
     },
     "execution_count": 35,
     "metadata": {},
     "output_type": "execute_result"
    }
   ],
   "source": [
    "print(\"Train_long_X PassiveAggressiveClassifier\")\n",
    "preds_pass = clf_pass.predict(train_long_X)\n",
    "precision_recall_f1score(preds_pass, train_long_df['Assessment'])"
   ]
  },
  {
   "cell_type": "code",
   "execution_count": 36,
   "id": "de5b91fb",
   "metadata": {},
   "outputs": [
    {
     "name": "stdout",
     "output_type": "stream",
     "text": [
      "Dev_long_X PassiveAggressiveClassifier\n",
      "Recall: 48/150 = 32.0 %\n",
      "Precision: 48/78 = 61.53846153846154 %\n",
      "F1 score: 0.4210526315789474\n",
      "Accuracy: 4718/4850 = 97.27835051546391 %\n"
     ]
    },
    {
     "data": {
      "text/plain": [
       "(0.32, 0.6153846153846154, 0.4210526315789474, 0.9727835051546392)"
      ]
     },
     "execution_count": 36,
     "metadata": {},
     "output_type": "execute_result"
    }
   ],
   "source": [
    "print(\"Dev_long_X PassiveAggressiveClassifier\")\n",
    "preds_pass_dev_long =clf_pass.predict(dev_long_X)\n",
    "precision_recall_f1score(preds_pass_dev_long, dev_long_df['Assessment'])"
   ]
  },
  {
   "cell_type": "markdown",
   "id": "0a8db40d",
   "metadata": {},
   "source": [
    "### SVM"
   ]
  },
  {
   "cell_type": "code",
   "execution_count": 37,
   "id": "f8d9fe22",
   "metadata": {},
   "outputs": [
    {
     "name": "stdout",
     "output_type": "stream",
     "text": [
      "SVM Linear SVC\n"
     ]
    }
   ],
   "source": [
    "print(\"SVM Linear SVC\")"
   ]
  },
  {
   "cell_type": "code",
   "execution_count": 38,
   "id": "71ac6d6e",
   "metadata": {},
   "outputs": [
    {
     "data": {
      "text/html": [
       "<style>#sk-container-id-5 {color: black;background-color: white;}#sk-container-id-5 pre{padding: 0;}#sk-container-id-5 div.sk-toggleable {background-color: white;}#sk-container-id-5 label.sk-toggleable__label {cursor: pointer;display: block;width: 100%;margin-bottom: 0;padding: 0.3em;box-sizing: border-box;text-align: center;}#sk-container-id-5 label.sk-toggleable__label-arrow:before {content: \"▸\";float: left;margin-right: 0.25em;color: #696969;}#sk-container-id-5 label.sk-toggleable__label-arrow:hover:before {color: black;}#sk-container-id-5 div.sk-estimator:hover label.sk-toggleable__label-arrow:before {color: black;}#sk-container-id-5 div.sk-toggleable__content {max-height: 0;max-width: 0;overflow: hidden;text-align: left;background-color: #f0f8ff;}#sk-container-id-5 div.sk-toggleable__content pre {margin: 0.2em;color: black;border-radius: 0.25em;background-color: #f0f8ff;}#sk-container-id-5 input.sk-toggleable__control:checked~div.sk-toggleable__content {max-height: 200px;max-width: 100%;overflow: auto;}#sk-container-id-5 input.sk-toggleable__control:checked~label.sk-toggleable__label-arrow:before {content: \"▾\";}#sk-container-id-5 div.sk-estimator input.sk-toggleable__control:checked~label.sk-toggleable__label {background-color: #d4ebff;}#sk-container-id-5 div.sk-label input.sk-toggleable__control:checked~label.sk-toggleable__label {background-color: #d4ebff;}#sk-container-id-5 input.sk-hidden--visually {border: 0;clip: rect(1px 1px 1px 1px);clip: rect(1px, 1px, 1px, 1px);height: 1px;margin: -1px;overflow: hidden;padding: 0;position: absolute;width: 1px;}#sk-container-id-5 div.sk-estimator {font-family: monospace;background-color: #f0f8ff;border: 1px dotted black;border-radius: 0.25em;box-sizing: border-box;margin-bottom: 0.5em;}#sk-container-id-5 div.sk-estimator:hover {background-color: #d4ebff;}#sk-container-id-5 div.sk-parallel-item::after {content: \"\";width: 100%;border-bottom: 1px solid gray;flex-grow: 1;}#sk-container-id-5 div.sk-label:hover label.sk-toggleable__label {background-color: #d4ebff;}#sk-container-id-5 div.sk-serial::before {content: \"\";position: absolute;border-left: 1px solid gray;box-sizing: border-box;top: 0;bottom: 0;left: 50%;z-index: 0;}#sk-container-id-5 div.sk-serial {display: flex;flex-direction: column;align-items: center;background-color: white;padding-right: 0.2em;padding-left: 0.2em;position: relative;}#sk-container-id-5 div.sk-item {position: relative;z-index: 1;}#sk-container-id-5 div.sk-parallel {display: flex;align-items: stretch;justify-content: center;background-color: white;position: relative;}#sk-container-id-5 div.sk-item::before, #sk-container-id-5 div.sk-parallel-item::before {content: \"\";position: absolute;border-left: 1px solid gray;box-sizing: border-box;top: 0;bottom: 0;left: 50%;z-index: -1;}#sk-container-id-5 div.sk-parallel-item {display: flex;flex-direction: column;z-index: 1;position: relative;background-color: white;}#sk-container-id-5 div.sk-parallel-item:first-child::after {align-self: flex-end;width: 50%;}#sk-container-id-5 div.sk-parallel-item:last-child::after {align-self: flex-start;width: 50%;}#sk-container-id-5 div.sk-parallel-item:only-child::after {width: 0;}#sk-container-id-5 div.sk-dashed-wrapped {border: 1px dashed gray;margin: 0 0.4em 0.5em 0.4em;box-sizing: border-box;padding-bottom: 0.4em;background-color: white;}#sk-container-id-5 div.sk-label label {font-family: monospace;font-weight: bold;display: inline-block;line-height: 1.2em;}#sk-container-id-5 div.sk-label-container {text-align: center;}#sk-container-id-5 div.sk-container {/* jupyter's `normalize.less` sets `[hidden] { display: none; }` but bootstrap.min.css set `[hidden] { display: none !important; }` so we also need the `!important` here to be able to override the default hidden behavior on the sphinx rendered scikit-learn.org. See: https://github.com/scikit-learn/scikit-learn/issues/21755 */display: inline-block !important;position: relative;}#sk-container-id-5 div.sk-text-repr-fallback {display: none;}</style><div id=\"sk-container-id-5\" class=\"sk-top-container\"><div class=\"sk-text-repr-fallback\"><pre>LinearSVC(C=2)</pre><b>In a Jupyter environment, please rerun this cell to show the HTML representation or trust the notebook. <br />On GitHub, the HTML representation is unable to render, please try loading this page with nbviewer.org.</b></div><div class=\"sk-container\" hidden><div class=\"sk-item\"><div class=\"sk-estimator sk-toggleable\"><input class=\"sk-toggleable__control sk-hidden--visually\" id=\"sk-estimator-id-5\" type=\"checkbox\" checked><label for=\"sk-estimator-id-5\" class=\"sk-toggleable__label sk-toggleable__label-arrow\">LinearSVC</label><div class=\"sk-toggleable__content\"><pre>LinearSVC(C=2)</pre></div></div></div></div></div>"
      ],
      "text/plain": [
       "LinearSVC(C=2)"
      ]
     },
     "execution_count": 38,
     "metadata": {},
     "output_type": "execute_result"
    }
   ],
   "source": [
    "clf_svm = svm.LinearSVC(C=2)\n",
    "clf_svm.fit(train_long_X, train_long_Y)"
   ]
  },
  {
   "cell_type": "code",
   "execution_count": 39,
   "id": "2ea0c254",
   "metadata": {},
   "outputs": [
    {
     "name": "stdout",
     "output_type": "stream",
     "text": [
      "Train_long_X SVM\n",
      "Recall: 693/695 = 99.71223021582733 %\n",
      "Precision: 693/693 = 100.0 %\n",
      "F1 score: 0.9985590778097982\n",
      "Accuracy: 21660/21662 = 99.99076724217524 %\n"
     ]
    },
    {
     "data": {
      "text/plain": [
       "(0.9971223021582734, 1.0, 0.9985590778097982, 0.9999076724217524)"
      ]
     },
     "execution_count": 39,
     "metadata": {},
     "output_type": "execute_result"
    }
   ],
   "source": [
    "print(\"Train_long_X SVM\")\n",
    "preds_svm = clf_svm.predict(train_long_X)\n",
    "precision_recall_f1score(preds_svm, train_long_df['Assessment'])"
   ]
  },
  {
   "cell_type": "code",
   "execution_count": 40,
   "id": "be5f2bfc",
   "metadata": {},
   "outputs": [
    {
     "name": "stdout",
     "output_type": "stream",
     "text": [
      "Dev_long_X SVM\n",
      "Recall: 44/150 = 29.333333333333332 %\n",
      "Precision: 44/66 = 66.66666666666666 %\n",
      "F1 score: 0.4074074074074074\n",
      "Accuracy: 4722/4850 = 97.36082474226804 %\n"
     ]
    },
    {
     "data": {
      "text/plain": [
       "(0.29333333333333333,\n",
       " 0.6666666666666666,\n",
       " 0.4074074074074074,\n",
       " 0.9736082474226804)"
      ]
     },
     "execution_count": 40,
     "metadata": {},
     "output_type": "execute_result"
    }
   ],
   "source": [
    "print(\"Dev_long_X SVM\")\n",
    "preds_dev_long =clf_svm.predict(dev_long_X)\n",
    "precision_recall_f1score(preds_dev_long, dev_long_df['Assessment'])"
   ]
  },
  {
   "cell_type": "code",
   "execution_count": 41,
   "id": "e764b730",
   "metadata": {},
   "outputs": [],
   "source": [
    "test_long_X= vectorize.transform(test_clean_long_df)"
   ]
  },
  {
   "cell_type": "code",
   "execution_count": 42,
   "id": "e220d720",
   "metadata": {},
   "outputs": [],
   "source": [
    "pred_svm = clf_svm.predict(test_long_X)"
   ]
  },
  {
   "cell_type": "code",
   "execution_count": 43,
   "id": "52e0429c",
   "metadata": {},
   "outputs": [],
   "source": [
    "with open('dcho13.txt', 'w') as f:\n",
    "    for x in zip(test_df['Docid'], pred_svm):\n",
    "        f.write('%s\\t%i\\n' % x)"
   ]
  }
 ],
 "metadata": {
  "kernelspec": {
   "display_name": "Python 3 (ipykernel)",
   "language": "python",
   "name": "python3"
  },
  "language_info": {
   "codemirror_mode": {
    "name": "ipython",
    "version": 3
   },
   "file_extension": ".py",
   "mimetype": "text/x-python",
   "name": "python",
   "nbconvert_exporter": "python",
   "pygments_lexer": "ipython3",
   "version": "3.9.7"
  }
 },
 "nbformat": 4,
 "nbformat_minor": 5
}
